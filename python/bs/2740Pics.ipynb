{
 "cells": [
  {
   "cell_type": "code",
   "execution_count": 5,
   "metadata": {},
   "outputs": [
    {
     "name": "stdout",
     "output_type": "stream",
     "text": [
      "Requirement already satisfied: beautifulsoup4 in /home/jq/local/opt/miniconda3/lib/python3.7/site-packages (4.7.1)\n",
      "Requirement already satisfied: lxml in /home/jq/local/opt/miniconda3/lib/python3.7/site-packages (4.3.3)\n",
      "Requirement already satisfied: requests in /home/jq/local/opt/miniconda3/lib/python3.7/site-packages (2.19.1)\n",
      "Requirement already satisfied: soupsieve>=1.2 in /home/jq/local/opt/miniconda3/lib/python3.7/site-packages (from beautifulsoup4) (1.9.1)\n",
      "Requirement already satisfied: chardet<3.1.0,>=3.0.2 in /home/jq/local/opt/miniconda3/lib/python3.7/site-packages (from requests) (3.0.4)\n",
      "Requirement already satisfied: idna<2.8,>=2.5 in /home/jq/local/opt/miniconda3/lib/python3.7/site-packages (from requests) (2.7)\n",
      "Requirement already satisfied: certifi>=2017.4.17 in /home/jq/local/opt/miniconda3/lib/python3.7/site-packages (from requests) (2019.3.9)\n",
      "Requirement already satisfied: urllib3<1.24,>=1.21.1 in /home/jq/local/opt/miniconda3/lib/python3.7/site-packages (from requests) (1.23)\n"
     ]
    }
   ],
   "source": [
    "!pip install beautifulsoup4 lxml requests"
   ]
  },
  {
   "cell_type": "code",
   "execution_count": 11,
   "metadata": {},
   "outputs": [
    {
     "data": {
      "text/plain": [
       "'<html><head><meta name=\"robots\" content=\"noindex, nofollow\"/><script src=\"https://www.google.com/recaptcha/api.js\"></script><link href=\"https://www.zillowstatic.com/vstatic/80d5e73/static/css/z-pages/captcha.css\" type=\"text/css\" rel=\"stylesheet\" media=\"screen\"/><script>\\n            function handleCaptcha(response) {\\n                var vid = getQueryString(\"vid\"); // getQueryString is implemented below\\n                var uuid = getQueryString(\"uuid\");\\n                var name = \\'_pxCaptcha\\';\\n                var cookieValue =  btoa(JSON.stringify({r:response,v:vid,u:uuid}));\\n                var cookieParts = [name, \\'=\\', cookieValue, \\'; path=/\\'];\\n                cookieParts.push(\\'; domain=\\' + window.location.hostname);\\n                cookieParts.push(\\'; max-age=10\\');//expire after 10 seconds\\n                document.cookie = cookieParts.join(\\'\\');\\n                var originalURL = getOriginalUrl(\"url\");\\n                var originalHost = window.location.host;\\n                var newHref = window.location.protocol + \"//\" + originalHost;\\n                originalURL = originalURL || \\'/\\';\\n                newHref = newHref + originalURL;\\n                window.location.href = newHref;\\n            }\\n\\n            function getQueryString(name, url) {\\n                if (!url) url = window.location.href;\\n                name = name.replace(/[\\\\[\\\\]]/g, \"\\\\\\\\$&\");\\n                var regex = new RegExp(\"[?&]\" + name + \"(=([^&#]*)|&|#|$)\"),\\n                results = regex.exec(url);\\n                if (!results) return null;\\n                if (!results[2]) return \\'\\';\\n                return decodeURIComponent(results[2].replace(/\\\\+/g, \" \"));\\n            }\\n\\n            function getOriginalUrl(name) {\\n                var url = getQueryString(name);\\n                if (!url) return null;\\n                var regExMatcher = new RegExp(\"(([^&#@]*)|&|#|$)\");\\n                var matches = regExMatcher.exec(url);\\n                if (!matches) return null;\\n                return matches[0];\\n            }\\n\\n            document.addEventListener(\"DOMContentLoaded\", function (e) {\\n                var uuidVerifyRegExp = /^\\\\{?[0-9a-fA-F]{8}-[0-9a-fA-F]{4}-[0-9a-fA-F]{4}-[0-9a-fA-F]{4}-[0-9a-fA-F]{12}\\\\}?$/i;\\n                document.getElementById(\"uuid\").innerText = \"UUID: \" + uuidVerifyRegExp.exec(getQueryString(\"uuid\"));\\n            });\\n        </script></head><body><main class=\"zsg-layout-content\"><div class=\"error-content-block\"><div class=\"error-text-content\"><!-- <h1>Captcha</h1> --><h5>Please verify you\\'re a human to continue.</h5><div id=\"content\" class=\"captcha-container\"><div class=\"g-recaptcha\" data-theme=\"white\" data-callback=\"handleCaptcha\" data-sitekey=\"6Lcj-R8TAAAAABs3FrRPuQhLMbp5QrHsHufzLf7b\"></div></div><img src=\"https://www.zillowstatic.com/static/logos/logo-65x14.png\" width=\"65\" alt=\"Zillow\" height=\"14\"></img></div></div></main><h4 id=\"uuid\" class=\"uuid-string zsg-fineprint\"></h4></body></html><!-- H:025  T:4ms  S:2686  R:Tue Jun 18 06:43:41 PDT 2019  B:5.0.60742.3-hotfix_2019-06-12.4d2ff1a~hotfix-platform-for-2019-06-12.5b7dbb1 -->'"
      ]
     },
     "execution_count": 11,
     "metadata": {},
     "output_type": "execute_result"
    }
   ],
   "source": [
    "from bs4 import BeautifulSoup\n",
    "import requests\n",
    "\n",
    "# seems zillow wont let me to get the html this way\n",
    "req = requests.get(\"https://www.zillow.com/savedhomes/for_sale/2114032675_zpid/1_pnd/40.029208,-83.071446,40.003309,-83.104148_rect/14_zm/1_rs/1_fr/?mmlb=g,0\")\n",
    "req.text"
   ]
  },
  {
   "cell_type": "code",
   "execution_count": 12,
   "metadata": {},
   "outputs": [],
   "source": [
    "# download manually, and read file\n",
    "\n",
    "with open(\"zillow_2740.html\") as fp:\n",
    "    soup = BeautifulSoup(fp)"
   ]
  },
  {
   "cell_type": "code",
   "execution_count": 50,
   "metadata": {},
   "outputs": [],
   "source": [
    "imgs = soup.find_all('img', 'photo-tile-image')"
   ]
  },
  {
   "cell_type": "code",
   "execution_count": 51,
   "metadata": {},
   "outputs": [
    {
     "data": {
      "text/plain": [
       "50"
      ]
     },
     "execution_count": 51,
     "metadata": {},
     "output_type": "execute_result"
    }
   ],
   "source": [
    "len(pics)"
   ]
  },
  {
   "cell_type": "code",
   "execution_count": 47,
   "metadata": {},
   "outputs": [
    {
     "data": {
      "text/plain": [
       "'https://photos.zillowstatic.com/p_h/IS2rtru87zayfi1000000000.jpg'"
      ]
     },
     "execution_count": 47,
     "metadata": {},
     "output_type": "execute_result"
    }
   ],
   "source": [
    "pics[0]['src']"
   ]
  },
  {
   "cell_type": "code",
   "execution_count": 43,
   "metadata": {},
   "outputs": [
    {
     "data": {
      "text/plain": [
       "'https://photos.zillowstatic.com/p_c/ISivrltwwn3gyg1000000000.jpg'"
      ]
     },
     "execution_count": 43,
     "metadata": {},
     "output_type": "execute_result"
    }
   ],
   "source": [
    "pics[1]['src']"
   ]
  },
  {
   "cell_type": "code",
   "execution_count": 49,
   "metadata": {},
   "outputs": [
    {
     "data": {
      "text/plain": [
       "'https://photos.zillowstatic.com/p_f/ISivrltwwn3gyg1000000000.jpg'"
      ]
     },
     "execution_count": 49,
     "metadata": {},
     "output_type": "execute_result"
    }
   ],
   "source": [
    "pics[1]['src'].replace('p_c', \"p_f\").replace('p_h', \"p_f\")"
   ]
  },
  {
   "cell_type": "code",
   "execution_count": 61,
   "metadata": {},
   "outputs": [],
   "source": [
    "import os\n",
    "import shutil\n",
    "\n",
    "d1 = '2740Pics'\n",
    "if not os.path.exists(d1):\n",
    "    os.makedirs(d1)\n",
    "\n",
    "i = 0\n",
    "for img in imgs:\n",
    "    i += 1\n",
    "    if i <= 48:\n",
    "        src = img['src'].replace('p_c', \"p_f\").replace('p_h', \"p_f\")   \n",
    "        continue\n",
    "    src = img['data-src'].replace('p_c', \"p_f\").replace('p_h', \"p_f\")    \n",
    "    n = str(i).zfill(2)\n",
    "    file = os.path.join(d1, f'{n}.jpg')\n",
    "    r = requests.get(src, stream=True)\n",
    "    if r.status_code == 200:\n",
    "        with open(file, 'wb') as f:\n",
    "            r.raw.decode_content = True\n",
    "            shutil.copyfileobj(r.raw, f)  "
   ]
  },
  {
   "cell_type": "code",
   "execution_count": 59,
   "metadata": {},
   "outputs": [
    {
     "data": {
      "text/plain": [
       "49"
      ]
     },
     "execution_count": 59,
     "metadata": {},
     "output_type": "execute_result"
    }
   ],
   "source": [
    "i"
   ]
  },
  {
   "cell_type": "code",
   "execution_count": null,
   "metadata": {},
   "outputs": [],
   "source": []
  }
 ],
 "metadata": {
  "kernelspec": {
   "display_name": "Python 3",
   "language": "python",
   "name": "python3"
  },
  "language_info": {
   "codemirror_mode": {
    "name": "ipython",
    "version": 3
   },
   "file_extension": ".py",
   "mimetype": "text/x-python",
   "name": "python",
   "nbconvert_exporter": "python",
   "pygments_lexer": "ipython3",
   "version": "3.7.3"
  }
 },
 "nbformat": 4,
 "nbformat_minor": 2
}
